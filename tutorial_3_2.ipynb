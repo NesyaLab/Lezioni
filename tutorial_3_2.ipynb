{
  "nbformat": 4,
  "nbformat_minor": 0,
  "metadata": {
    "colab": {
      "provenance": []
    },
    "kernelspec": {
      "name": "python3",
      "display_name": "Python 3"
    },
    "language_info": {
      "name": "python"
    }
  },
  "cells": [
    {
      "cell_type": "markdown",
      "source": [
        "# Tutorial 3.2: The Quantum Approximate Optimization Algorithm (QAOA)"
      ],
      "metadata": {
        "id": "IWreoJ3Aiqlr"
      }
    },
    {
      "cell_type": "markdown",
      "source": [
        "The [Quantum Approximate Optimization Algorithm (QAOA)](https://en.wikipedia.org/wiki/Quantum_algorithm#QAOA), introduced by Farhi et al. in 2014, is a variational hybrid quantum-classical algorithm designed to find approximate solutions to [combinatorial optimization problems](https://en.wikipedia.org/wiki/Combinatorial_optimization). It works by alternating between two parameterized quantum operators: one encoding the problem Hamiltonian (representing the cost function to be minimized) and one encoding the mixer Hamiltonian (which explores the solution space). A classical optimizer iteratively updates the parameters to minimize the expectation value of the cost function. Due to its hybrid structure, QAOA is particularly suited for NISQ-era devices, where quantum coherence times are limited but can still be leveraged to gain computational advantages.\n"
      ],
      "metadata": {
        "id": "4O6mKKG6kF5l"
      }
    },
    {
      "cell_type": "code",
      "source": [
        "#Install required packages to run the code in this notebook\n",
        "#!pip install qiskit==2.2.1 qiskit-aer==0.17.2 qiskit-optimization==0.7.0 qiskit-algorithms==0.4.0\n",
        "#!pip install scipy"
      ],
      "metadata": {
        "id": "zVI_toEEs12T"
      },
      "execution_count": null,
      "outputs": []
    },
    {
      "cell_type": "markdown",
      "source": [
        "**Table of Contents**\n",
        "\n",
        "&nbsp;&nbsp;[Introduction](#Introduction)   \n",
        "&nbsp;&nbsp; &nbsp;&nbsp; &nbsp;&nbsp; [Optimization with quantum computers](#s1-1)  \n",
        "&nbsp;&nbsp; &nbsp;&nbsp; &nbsp;&nbsp; [QUBO problems and the Ising model](#s1-2)  \n",
        "&nbsp;&nbsp; &nbsp;&nbsp; &nbsp;&nbsp; [The adiabatic theorem](#s1-3)  \n",
        "&nbsp;&nbsp; &nbsp;&nbsp; &nbsp;&nbsp; [The QAOA](#s1-4)  \n",
        "&nbsp;&nbsp; &nbsp;&nbsp; &nbsp;&nbsp; [The QAOA and the MaxCut problem](#s1-4)  \n",
        "&nbsp;&nbsp;[Exercises](#ex)   \n",
        "&nbsp;&nbsp;[Suggested readings](#bib)"
      ],
      "metadata": {
        "id": "my1-AyBijrXR"
      }
    },
    {
      "cell_type": "markdown",
      "source": [
        "<a name=\"Introduction\"></a>\n",
        "## Introduction"
      ],
      "metadata": {
        "id": "yl2gU7Y7jJtG"
      }
    },
    {
      "cell_type": "markdown",
      "source": [
        "[Optimization](https://en.wikipedia.org/wiki/Mathematical_optimization) is one of the oldest branches of mathematics and formalizes the intuitive procedure of selecting, according to given criteria, the best element among a set of possible alternatives. Important optimization problems arise both from purely theoretical considerations (e.g., in the calculus of variations, differential geometry, and rational mechanics) and from applications (e.g., logistics, machine learning, quantitative finance). These problems are often so complex that they cannot be solved exactly or analytically, except in extremely simple cases. In this sense, the computer is an indispensable tool for working effectively in these fields. The trouble is that most of the most interesting problems do not admit exact solutions even by computer—or, worse, they do not even admit approximate solutions that a computer can determine within reasonable times and with an acceptable error rate. For this reason, since quantum computing was formalized in the first half of the 1980s, optimization problems have been among the first topics to be studied.  \n",
        "\n",
        "In this notebook, we will examine one of the many available techniques for solving [NP-hard](https://en.wikipedia.org/wiki/NP-hardness) optimization problems using a [hybrid approach](https://en.wikipedia.org/wiki/Variational_quantum_eigensolver), in which part of the solution is computed by a quantum device and the remaining part by a classical device. This aims to balance the difficulties classical devices face in handling such problems with the potential of quantum computation, which is itself still limited by the early-stage nature of NISQ technology.\n"
      ],
      "metadata": {
        "id": "hxB21wm6jLCr"
      }
    },
    {
      "cell_type": "markdown",
      "source": [
        "<a name=\"s1-1\"></a>\n",
        "## Optimization with quantum computers"
      ],
      "metadata": {
        "id": "kz_w7RCsCEoe"
      }
    },
    {
      "cell_type": "markdown",
      "source": [
        "Consider as a guiding example a linear optimization problem with constraints where you are asked to minimize the function $f(x,y)=3x+4y$ subject to $x,y$ are positive integers and $x+2y\\leq 8$. We can classically solve this simple problem by direct enumeration."
      ],
      "metadata": {
        "id": "gRXJkG8ekqxd"
      }
    },
    {
      "cell_type": "code",
      "source": [
        "# Solution by enumeration of a simple constrained optimization problem\n",
        "# With a rough estimation of the computational resources required\n",
        "# Objective function (linear): f(x, y) = 3x + 4y\n",
        "# Constraints: x > 0, y > 0, x + 2y <= 8, x and y are integers\n",
        "\n",
        "import math\n",
        "import warnings\n",
        "warnings.filterwarnings('ignore')"
      ],
      "metadata": {
        "id": "hmAXqog6lYEm"
      },
      "execution_count": null,
      "outputs": []
    },
    {
      "cell_type": "code",
      "source": [
        "def objective_function(x, y):\n",
        "    return 3 * x + 4 * y\n",
        "\n",
        "\n",
        "def is_feasible(x, y):\n",
        "    return (x + 2 * y <= 8) and (x > 0) and (y > 0) and (float(x).is_integer() and float(y).is_integer())"
      ],
      "metadata": {
        "id": "qO2Be12IlgP3"
      },
      "execution_count": null,
      "outputs": []
    },
    {
      "cell_type": "code",
      "source": [
        "best_solution = None\n",
        "best_value = float('-inf')\n",
        "iterations = 0\n",
        "\n",
        "for x in range(0, 100):\n",
        "    for y in range(0, 100):\n",
        "        iterations += 1\n",
        "        if is_feasible(x, y):\n",
        "            value = objective_function(x, y)\n",
        "            if value > best_value:\n",
        "                best_value = value\n",
        "                best_solution = (x, y)\n",
        "\n",
        "print(f\"solution: x = {best_solution[0]}, y = {best_solution[1]}\")\n",
        "print(f\"maximum value: {best_value}\")\n",
        "print(f\"number of iterations: {iterations}\")\n",
        "\n",
        "# Estimate of the number of bits needed to represent x and y\n",
        "bits_x = int(math.log2(100))\n",
        "bits_y = int(math.log2(100))\n",
        "total_bits = bits_x + bits_y\n",
        "\n",
        "# Estimate of the number of classical logical gates needed to solve the problem\n",
        "gates_objective = 2 * (bits_x + bits_y)\n",
        "gates_constraint = 2 * (bits_x + bits_y)\n",
        "gates_total = gates_objective + gates_constraint\n",
        "\n",
        "print(\"bits:\", total_bits)\n",
        "print(\"classical gates:\", gates_total)"
      ],
      "metadata": {
        "colab": {
          "base_uri": "https://localhost:8080/"
        },
        "id": "aOLIowzJi0qS",
        "outputId": "5172600a-cfd4-4238-bcb9-07901facc15b"
      },
      "execution_count": null,
      "outputs": [
        {
          "output_type": "stream",
          "name": "stdout",
          "text": [
            "solution: x = 6, y = 1\n",
            "maximum value: 22\n",
            "number of iterations: 10000\n",
            "bits: 12\n",
            "classical gates: 48\n"
          ]
        }
      ]
    },
    {
      "cell_type": "markdown",
      "source": [
        "Suppose now that you want to carry out the same task on a quantum device, what kind of resources would be used? The following code shows that even in this simple case the number of qubits and gates saturates the resources available on current NISQ devices."
      ],
      "metadata": {
        "id": "O4xx1aC9mToj"
      }
    },
    {
      "cell_type": "code",
      "source": [
        "# Solution of the same problem on a quantum device (it can take a while...)\n",
        "\n",
        "from qiskit_optimization.problems import QuadraticProgram\n",
        "from qiskit_optimization.converters import QuadraticProgramToQubo\n",
        "from qiskit_optimization.algorithms import MinimumEigenOptimizer\n",
        "from qiskit_algorithms import QAOA\n",
        "from qiskit_algorithms.optimizers import COBYLA\n",
        "from qiskit.primitives import StatevectorSampler\n",
        "\n",
        "# Problem definition\n",
        "qp = QuadraticProgram()\n",
        "qp.integer_var(name=\"x\", lowerbound=1, upperbound=8)\n",
        "qp.integer_var(name=\"y\", lowerbound=1, upperbound=3)\n",
        "qp.maximize(linear={\"x\": 3, \"y\": 4})\n",
        "qp.linear_constraint(linear={\"x\": 1, \"y\": 2}, sense=\"LE\", rhs=8)\n",
        "\n",
        "# Convert to \"qubit form\" (for diagnostic)\n",
        "qp2qubo = QuadraticProgramToQubo()\n",
        "qubo = qp2qubo.convert(qp)\n",
        "qubitOp, offset = qubo.to_ising()\n",
        "\n",
        "# Solve\n",
        "sampler = StatevectorSampler()\n",
        "meo = MinimumEigenOptimizer(QAOA(sampler=sampler, optimizer=COBYLA(maxiter=10)))\n",
        "result = meo.solve(qp)\n",
        "\n",
        "print(result.prettyprint())\n",
        "print(\"approximate number of quantum gates\", len(qubitOp))\n",
        "print(\"approximate number of qubits:\", getattr(qubitOp, \"num_qubits\", None))\n"
      ],
      "metadata": {
        "colab": {
          "base_uri": "https://localhost:8080/"
        },
        "id": "Zp7RvWTamg1p",
        "outputId": "5cd1ca12-642a-457b-cec7-fa52589bde2b"
      },
      "execution_count": null,
      "outputs": [
        {
          "output_type": "stream",
          "name": "stdout",
          "text": [
            "objective function value: 22.0\n",
            "variable values: x=6.0, y=1.0\n",
            "status: SUCCESS\n",
            "approximate number of quantum gates 36\n",
            "approximate number of qubits: 8\n"
          ]
        }
      ]
    },
    {
      "cell_type": "markdown",
      "source": [
        "Now... is this feasible? It make sense to use a quantum computer in this way? In the following parts we will try to answer this kind of questions and show that with \"custom\" constructions (i.e., the non-out of the box version of the QAOA discussed above) we could hope for some advantage, or, at least, to gain some insight that would be precluded otherwise."
      ],
      "metadata": {
        "id": "mQKif0l4uaPs"
      }
    },
    {
      "cell_type": "markdown",
      "source": [
        "\n",
        "The following code shows a gradient-ascent strategy to solve the problem discussed above, to complement the enumerative strategy."
      ],
      "metadata": {
        "id": "S63oHowMv3TL"
      }
    },
    {
      "cell_type": "code",
      "source": [
        "# Solution via gradient ascent\n",
        "\n",
        "import numpy as np\n",
        "\n",
        "def project_to_triangle(x, y):\n",
        "    # First, clip to non-negatives\n",
        "    x = max(x, 1.0)\n",
        "    y = max(y, 1.0)\n",
        "    # If already satisfies x + 2y <= 8, we're done\n",
        "    if x + 2*y <= 8 + 1e-12:\n",
        "        return x, y\n",
        "    # Project (x,y) onto the line x + 2y = 8 in Euclidean distance\n",
        "    # Solve min ||(x',y')-(x,y)||^2 s.t. x' + 2y' = 8\n",
        "    # Lagrange gives:\n",
        "    #   x' = x - (1/5)*(x + 2y - 8)\n",
        "    #   y' = y - (2/5)*(x + 2y - 8)\n",
        "    t = (x + 2*y - 8.0)\n",
        "    x_p = x - (1.0/5.0)*t\n",
        "    y_p = y - (2.0/5.0)*t\n",
        "    # Ensure non-negativity after projecting to the line:\n",
        "    x_p = max(x_p, 1.0)\n",
        "    y_p = max(y_p, 1.0)\n",
        "    # If clipping broke the line constraint slightly, snap back to the nearest feasible corner on that edge\n",
        "    if x_p + 2*y_p > 8 + 1e-10:\n",
        "        # Move along the edge direction to satisfy x + 2y = 8\n",
        "        # Prefer reducing y if needed (keeps us on or inside the set)\n",
        "        y_p = min(y_p, (8 - x_p)/2.0)\n",
        "    return x_p, y_p\n",
        "\n",
        "\n",
        "def projected_gradient_ascent(start, lr=0.2, iters=200, tol=1e-9):\n",
        "    x, y = start\n",
        "    # Constant gradient of the linear objective:\n",
        "    g = np.array([3.0, 4.0])\n",
        "    last_val = objective_function(x, y)\n",
        "    for _ in range(iters):\n",
        "        x, y = x + lr*g[0], y + lr*g[1]\n",
        "        x, y = project_to_triangle(x, y)\n",
        "        val = objective_function(x, y)\n",
        "        if abs(val - last_val) < tol:\n",
        "            break\n",
        "        last_val = val\n",
        "    return x, y, val"
      ],
      "metadata": {
        "id": "ivV96mwuE-hQ"
      },
      "execution_count": null,
      "outputs": []
    },
    {
      "cell_type": "code",
      "source": [
        "# start anywhere in/near the set\n",
        "x0_relaxed = (0.0, 0.0)\n",
        "xr, yr, vr = projected_gradient_ascent(x0_relaxed, lr=0.3, iters=1000)\n",
        "\n",
        "print(\"Relaxed (continuous) optimum by projected gradient ascent:\")\n",
        "print(f\"  (x, y) ≈ ({xr:.6f}, {yr:.6f}),  f ≈ {vr:.6f}\")\n",
        "\n",
        "# What the theory says for a linear objective --------\n",
        "# For the relaxed problem, the maximizer lies at an extreme point of the triangle.\n",
        "# Check the corners: (0,0), (8,0), (0,4) -> best is (8,0) with f=24.\n",
        "print(\"\\nExtreme points check (relaxed):\")\n",
        "for (xx, yy) in [(0,0), (8,0), (0,4)]:\n",
        "    print(f\"  (x, y) = ({xx}, {yy}), f = {objective_function(xx, yy)}\")"
      ],
      "metadata": {
        "colab": {
          "base_uri": "https://localhost:8080/"
        },
        "id": "gs-rAFhTD-9G",
        "outputId": "ccea3582-e75a-4bd0-f853-04e3649fa6c4"
      },
      "execution_count": null,
      "outputs": [
        {
          "output_type": "stream",
          "name": "stdout",
          "text": [
            "Relaxed (continuous) optimum by projected gradient ascent:\n",
            "  (x, y) ≈ (9.600000, -0.800000),  f ≈ 25.600000\n",
            "\n",
            "Extreme points check (relaxed):\n",
            "  (x, y) = (0, 0), f = 0\n",
            "  (x, y) = (8, 0), f = 24\n",
            "  (x, y) = (0, 4), f = 16\n"
          ]
        }
      ]
    },
    {
      "cell_type": "markdown",
      "source": [
        "Thw corresponding quantum version of this strategy is based on [parameter shift rules](https://arxiv.org/abs/2107.12390) and we will dedicate a separated project about this topic. For the moment you can check the previous gradient ascent method against the following code."
      ],
      "metadata": {
        "id": "SXHENKx9wGOw"
      }
    },
    {
      "cell_type": "code",
      "source": [
        "# Solution with out-of-the box QAOA and parameter-shift rules\n",
        "\n",
        "from qiskit.circuit.library import QAOAAnsatz\n",
        "from qiskit.primitives import StatevectorSampler, StatevectorEstimator\n",
        "from qiskit_algorithms.gradients import ParamShiftEstimatorGradient\n",
        "from qiskit_algorithms.optimizers import COBYLA\n",
        "\n",
        "def energy(theta):\n",
        "    res = estimator.run(pubs=[(ansatz, qubitOp, theta)]).result()\n",
        "    return float(res[0].data.evs)\n",
        "\n",
        "def energy_grad(theta):\n",
        "    # ParamShiftEstimatorGradient\n",
        "    gres = grad.run(\n",
        "        circuits=[ansatz],\n",
        "        observables=[qubitOp],\n",
        "        parameter_values=[theta],\n",
        "    ).result()\n",
        "    return gres.gradients[0]\n",
        "\n",
        "\n",
        "# Build the QAOA ansatz for the cost operator qubitOp\n",
        "p = 1\n",
        "ansatz = QAOAAnsatz(cost_operator=qubitOp, reps=p)\n",
        "\n",
        "# Estimator + parameter-shift gradient\n",
        "estimator = StatevectorEstimator()\n",
        "grad = ParamShiftEstimatorGradient(estimator)\n",
        "\n",
        "# Simple gradient descent on the angles (for QAOA we minimize energy, so we descend)\n",
        "import numpy as np\n",
        "theta = np.zeros(ansatz.num_parameters, dtype=float)\n",
        "lr = 0.2\n",
        "maxiter = 200\n",
        "tol = 1e-8\n",
        "prev = energy(theta)\n",
        "for _ in range(maxiter):\n",
        "    g = energy_grad(theta)\n",
        "    theta = theta - lr * g\n",
        "    val = energy(theta)\n",
        "    if abs(prev - val) < tol:\n",
        "        break\n",
        "    prev = val\n",
        "print(\"Trained energy:\", prev)\n",
        "print(\"Num params:\", ansatz.num_parameters)\n",
        "\n",
        "# Use the trained angles as QAOA's initial point and let the optimizer do *zero* steps.\n",
        "# This makes QAOA evaluate exactly at `theta`, and `MinimumEigenOptimizer` will decode back to (x,y).\n",
        "sampler = StatevectorSampler()\n",
        "qaoa = QAOA(\n",
        "    sampler=sampler,\n",
        "    optimizer=COBYLA(maxiter=0),\n",
        "    reps=p,\n",
        "    initial_point=theta.tolist()\n",
        ")\n",
        "meo = MinimumEigenOptimizer(qaoa)\n",
        "result = meo.solve(qp)\n",
        "print(result.prettyprint())\n",
        "print(\"approximate number of quantum gates (Pauli terms in H):\", len(qubitOp))\n",
        "print(\"approximate number of qubits:\", getattr(qubitOp, \"num_qubits\", None))"
      ],
      "metadata": {
        "colab": {
          "base_uri": "https://localhost:8080/"
        },
        "id": "wmqlGzB_wWTZ",
        "outputId": "1d069ab1-c913-41ca-af6f-856676e483a9"
      },
      "execution_count": null,
      "outputs": [
        {
          "output_type": "stream",
          "name": "stdout",
          "text": [
            "Trained energy: 6.245004513516506e-16\n",
            "Num params: 2\n",
            "objective function value: 22.0\n",
            "variable values: x=6.0, y=1.0\n",
            "status: SUCCESS\n",
            "approximate number of quantum gates (Pauli terms in H): 36\n",
            "approximate number of qubits: 8\n"
          ]
        }
      ]
    },
    {
      "cell_type": "markdown",
      "source": [
        "<a name=\"s1-2\"></a>\n",
        "## QUBO problems and the Ising model"
      ],
      "metadata": {
        "id": "Vj88X6HCHYOA"
      }
    },
    {
      "cell_type": "markdown",
      "source": [
        "In the field of combinatorial optimization problems, where typically the feasible space is $\\Omega \\subset \\mathbb{Z}^n$, one can restrict to the case of binary variables. In fact, if $x \\in \\Omega$ is a vector with integer components $x = (x_1, \\dots, x_n) \\in \\mathbb{Z}^n$, by representing each component $x_i \\in \\mathbb{Z}$ in base two, and writing $z_i = (x_i)_2$ for each $i = 1, \\dots, n$, we move from $x$ to a binary string $z = (x)_2$ with components $z = (z_1, \\dots, z_n)$. For simplicity of notation, we will denote a binary string $z$ by the juxtaposition of symbols $z = z_1z_2 \\dots z_n$. Clearly, $z \\in \\{0,1\\}^N$ is a sequence of $N > n$ bits. In this context, the objective function $f : \\{0,1\\}^N \\to \\mathbb{R}$ can take an exponential (in $N$) number of values $f(z)$, one for each binary assignment of the bits in $z$. Moreover, the incremental ratio  \n",
        "$$\n",
        "\\Delta_h f = \\frac{1}{h}(f(z + h) - f(z))\n",
        "$$  \n",
        "is not well-defined for every $h \\in \\mathbb{R}$, and therefore classical techniques based on gradient analysis cannot be applied; a detailed study of the cost function is necessary on a case-by-case basis. Classically, several analysis techniques exist, essentially based on: enumeration (when possible, as discussed above), variable [relaxation](https://en.wikipedia.org/wiki/Relaxation_(approximation)), approximation of $f$ (e.g., through [Taylor series](https://en.wikipedia.org/wiki/Taylor_series)), [stochastic methods](https://en.wikipedia.org/wiki/Stochastic_optimization), or combinations of the above. As we shall see, in a certain sense, quantum optimization algorithms encompass all these approximate techniques within a single computational framework."
      ],
      "metadata": {
        "id": "w6nAkJyICjZk"
      }
    },
    {
      "cell_type": "markdown",
      "source": [
        "The simplest case one can begin to analyze is given by the so-called [QUBO problems](https://en.wikipedia.org/wiki/Quadratic_unconstrained_binary_optimization) (Quadratic Unconstrained Binary Optimization Problems), where $\\Omega = \\{0,1\\}^N$ and the cost function  \n",
        "\n",
        "$$\n",
        "f(z) = \\langle z | \\mathbf{a} z \\rangle + \\langle b | z \\rangle + c\n",
        "$$  \n",
        "\n",
        "is a quadratic form determined by a weight matrix $\\mathbf{a} = (a_{ij}) \\in \\mathbb{R}^{N \\times N}$ and two column vectors $b, c \\in \\mathbb{R}^N$. It is not difficult to notice (cf. Exercise 3) that one can set $c = 0$ without loss of generality, while in general $b \\ne 0$ and $\\mathbf{a}$ is considered upper triangular (equivalently, symmetric and non-degenerate). Explicitly,  \n",
        "$$\n",
        "f(z) = \\sum_{i,j} a_{ij} z_i z_j + \\sum_i b_i z_i \\,.\n",
        "$$\n",
        "Since we are dealing with binary variables, $f$ can be directly computed on classical devices, but the same cannot be done on quantum devices, and we need to suitably translate the problem in the quantum setting."
      ],
      "metadata": {
        "id": "UPyjBzq6GbFH"
      }
    },
    {
      "cell_type": "markdown",
      "source": [
        "The [Ising model](https://en.wikipedia.org/wiki/Ising_model) allows mapping a QUBO problem into one that a quantum computer can solve (Hamiltonian simulation). The first step of this transformation consists in considering a one-to-one mapping, where the use of superscripts is introduced for convenience (i.e., $z_i = z^{(i)}$):\n",
        "$$\n",
        "z^{(i)} \\to z'^{(i)} = 2z^{(i)} - 1\n",
        "$$\n",
        "for each $i = 1, \\dots, n$, which transforms the bits $z_i = z^{(i)}$ into signed variables $z'^{(i)} \\in \\{\\pm 1\\}$. Since the values $\\pm 1$ correspond precisely to the eigenvalues of the Pauli matrices, and every measurement at the end of a quantum computation returns the eigenvalues corresponding to the observables that generate the unitaries used in the evolution of the computation according to the Born rule, the ideal mapping is therefore to associate each variable $z$ with a set $\\sigma$ of Pauli matrices.\n",
        "\n",
        "At this point, the method for determining the Pauli observables becomes clear: the objective function $f(z')$ corresponds to the Hamiltonian of a spin system, where the mixed interaction terms are determined by a Pauli matrix, for example  \n",
        "$$\n",
        "\\boldsymbol{\\sigma}_z^{(i)} =\n",
        "\\begin{pmatrix}\n",
        "1 & 0\\\\\n",
        "0 & -1\n",
        "\\end{pmatrix}\n",
        "$$  \n",
        "and the external field term by a Pauli matrix that does not commute with the previous ones, for example  \n",
        "$$\n",
        "\\boldsymbol{\\sigma}_x^{(i)} =\n",
        "\\begin{pmatrix}\n",
        "0 & 1\\\\\n",
        "1 & 0\n",
        "\\end{pmatrix}\\,.\n",
        "$$  \n",
        "With this notation, the quantum objective function is  \n",
        "$$\n",
        "f(\\sigma) = \\sum_{ij} a_{ij} \\boldsymbol{\\sigma}_z^{(i)} \\otimes \\boldsymbol{\\sigma}_z^{(j)} + \\sum_i b_i \\boldsymbol{\\sigma}_x^{(i)}\\,,\n",
        "$$\n",
        "which represents the Hamiltonian observable of a spin (qubit) system. More general forms, where multi-local interactions appear (e.g., three-body or four-body interactions), are possible, as well as cases where the external field term involves multiple Pauli operators — however, these lie beyond the scope of QUBO problems.\n"
      ],
      "metadata": {
        "id": "vBolZqRqIZIm"
      }
    },
    {
      "cell_type": "code",
      "source": [
        "# QUBO to Ising mapping\n",
        "\n",
        "from itertools import product\n",
        "\n",
        "\n",
        "def qubo_to_ising(Q_dict, assume_upper_triangle=True):\n",
        "    \"\"\"\n",
        "    Convert a QUBO dictionary to Ising parameters (J, h, offset).\n",
        "    \"\"\"\n",
        "    if not Q_dict:\n",
        "        return {}, {}, 0.0\n",
        "\n",
        "    n = 1 + max(max(i, j) for (i, j) in Q_dict.keys())\n",
        "    Q = np.zeros((n, n), dtype=float)\n",
        "    if assume_upper_triangle:\n",
        "        for (i, j), val in Q_dict.items():\n",
        "            if i == j:\n",
        "                Q[i, i] += val\n",
        "            elif i < j:\n",
        "                # split evenly to reproduce sum_{i<=j} q_ij z_i z_j\n",
        "                Q[i, j] += val / 2.0\n",
        "                Q[j, i] += val / 2.0\n",
        "            else:\n",
        "                # treat lower-tri as upper-tri\n",
        "                Q[j, i] += val / 2.0\n",
        "                Q[i, j] += val / 2.0\n",
        "    else:\n",
        "        # symmetrize since only the symmetric part contributes\n",
        "        for (i, j), val in Q_dict.items():\n",
        "            Q[i, j] += val\n",
        "        Q = 0.5 * (Q + Q.T)\n",
        "    one = np.ones(n)\n",
        "    # Couplings J for i<j\n",
        "    J = {}\n",
        "    for i in range(n):\n",
        "        for j in range(i + 1, n):\n",
        "            if abs(Q[i, j]) > 0:\n",
        "                J[(i, j)] = 0.5 * Q[i, j]\n",
        "    # Linear fields h\n",
        "    h_vec = 0.5 * (Q @ one)\n",
        "    h = {i: float(h_vec[i]) for i in range(n) if abs(h_vec[i]) > 0}\n",
        "    # Constant offset\n",
        "    offset = 0.25 * (np.trace(Q) + float(one @ Q @ one))\n",
        "    offset = float(offset)\n",
        "    return h, J, offset\n",
        "\n",
        "\n",
        "def qubo_energy(Q_dict, z, assume_upper_triangle=True):\n",
        "    \"\"\"Compute E_QUBO(z) honoring the upper-triangular convention if selected.\"\"\"\n",
        "    n = len(z)\n",
        "    E = 0.0\n",
        "    if assume_upper_triangle:\n",
        "        for (i, j), val in Q_dict.items():\n",
        "            if i <= j:\n",
        "                E += val * z[i] * z[j]\n",
        "            else:\n",
        "                # lower-tri key as upper-tri\n",
        "                E += val * z[j] * z[i]\n",
        "    else:\n",
        "        for (i, j), val in Q_dict.items():\n",
        "            E += val * z[i] * z[j]\n",
        "    return float(E)\n",
        "\n",
        "\n",
        "def ising_energy(h, J, offset, s):\n",
        "    \"\"\"E_Ising(s) = ∑_{i<j} J_ij s_i s_j + ∑_i h_i s_i + offset\"\"\"\n",
        "    E = offset\n",
        "    for i, hi in h.items():\n",
        "        E += hi * s[i]\n",
        "    for (i, j), Jij in J.items():\n",
        "        E += Jij * s[i] * s[j]\n",
        "    return float(E)\n",
        "\n",
        "\n",
        "def format_hamiltonian(h, J, offset):\n",
        "    parts = []\n",
        "    for (i, j), val in sorted(J.items()):\n",
        "        parts.append(f\"({val})*σ_z^{i}σ_z^{j}\")\n",
        "    for i, val in sorted(h.items()):\n",
        "        parts.append(f\"({val})*σ_z^{i}\")\n",
        "    if abs(offset) > 0:\n",
        "        parts.append(f\"({offset})*I\")\n",
        "    return \" + \".join(parts) if parts else f\"({offset})*I\""
      ],
      "metadata": {
        "id": "-VTYB64HEFbl"
      },
      "execution_count": null,
      "outputs": []
    },
    {
      "cell_type": "code",
      "source": [
        "qubo_problem = {\n",
        "    (0, 0): -1,\n",
        "    (1, 1): -1,\n",
        "    (0, 1):  2,\n",
        "}\n",
        "h, J, offset = qubo_to_ising(qubo_problem, assume_upper_triangle=True)\n",
        "H_str = format_hamiltonian(h, J, offset)\n",
        "\n",
        "print(\"Ising fields h:\", h)\n",
        "print(\"Ising couplings J:\", J)\n",
        "print(\"Offset (constant):\", offset)\n",
        "print(\"Hamiltonian H:\", H_str)\n",
        "# Consistency check\n",
        "n = 1 + max(max(i, j) for (i, j) in qubo_problem)\n",
        "ok = True\n",
        "for z in product([0, 1], repeat=n):\n",
        "    s = [2*zi - 1 for zi in z]\n",
        "    EQ = qubo_energy(qubo_problem, z, assume_upper_triangle=True)\n",
        "    EI = ising_energy(h, J, offset, s)\n",
        "    if abs(EQ - EI) > 1e-9:\n",
        "        ok = False\n",
        "        print(\"Mismatch for z =\", z, \" -> E_QUBO:\", EQ, \"E_Ising:\", EI)\n",
        "        break\n",
        "print(\"Energy mapping check:\", \"OK\" if ok else \"FAILED\")"
      ],
      "metadata": {
        "colab": {
          "base_uri": "https://localhost:8080/"
        },
        "id": "DROd-OyoJE7x",
        "outputId": "007e22f7-f2b0-446e-8c45-0160bb11ca9d"
      },
      "execution_count": null,
      "outputs": [
        {
          "output_type": "stream",
          "name": "stdout",
          "text": [
            "Ising fields h: {}\n",
            "Ising couplings J: {(0, 1): np.float64(0.5)}\n",
            "Offset (constant): -0.5\n",
            "Hamiltonian H: (0.5)*σ_z^0σ_z^1 + (-0.5)*I\n",
            "Energy mapping check: OK\n"
          ]
        }
      ]
    },
    {
      "cell_type": "markdown",
      "source": [
        "<a name=\"s1-3\"></a>\n",
        "## The adiabatic theorem"
      ],
      "metadata": {
        "id": "Ff6TyGSEJGjO"
      }
    },
    {
      "cell_type": "markdown",
      "source": [
        "We have seen that, to solve a combinatorial optimization problem (of the QUBO type), the objective function $f$ is written in terms of bits $f = f(z)$, then transformed into signed coordinates $f = f(z')$ with $z' = 2z - 1$, and each variable is associated with a Pauli matrix according to the Ising model $f = f(\\sigma)$. Once this encoding step is completed, the optimization problem must be concretely solved on a quantum computer — that is, we need to describe how the objective function, initialized in a certain state $|\\psi_0\\rangle$, can be evolved to the state $|\\psi^*\\rangle$ corresponding to the minimum of the Ising Hamiltonian.   Indeed, by knowing $|\\psi^*\\rangle$, one can go backwards by associating each of its components with a signed variable, and therefore recover the corresponding $i$-th bit of the solution. In this way, the minimum-energy configuration for $f(\\sigma)$ determines the solution of the QUBO optimization problem, $f(z^*) = \\min_\\Omega f(z)$. this pipeline can be carried out simply using out-of-the box methods as discussed in the previous sections, but it can also be extremely usefull to build the QAOA from scratch in order to calibrate it, extend its capabilities etc...\n"
      ],
      "metadata": {
        "id": "cbXEnGORJmtI"
      }
    },
    {
      "cell_type": "markdown",
      "source": [
        "The way to reach the minimum eigenstate of $f(\\sigma)$ using a quantum computer is through an [adiabatic process](https://en.wikipedia.org/wiki/Adiabatic_theorem): one initializes $f = f(\\sigma)$ in $\\sigma$, and then considers a small perturbation of $f$ for an evolution time $T \\gg 1$. If $T$ is sufficiently large and the perturbation remains sufficiently close (as a Hamiltonian) to $f$ during the evolution, then the gradual change in conditions allows the system to adapt its configuration. As a result, the probability density corresponding to the measurement of the evolving system is modified by the process in a controlled manner.\n"
      ],
      "metadata": {
        "id": "oUX_x954KQSS"
      }
    },
    {
      "cell_type": "code",
      "source": [
        "# Example of an adiabatic vs a non-adiabatic evolution\n",
        "\n",
        "import matplotlib.pyplot as plt\n",
        "\n",
        "def hamiltonian(t, T, J=1.0):\n",
        "    h_t = 1.0 - t / T\n",
        "    return h_t, J\n",
        "\n",
        "def adiabatic_evolution(T, steps=100):\n",
        "    overlaps = []\n",
        "    for t in np.linspace(0, T, steps):\n",
        "        h_t, J = hamiltonian(t, T)\n",
        "        overlap = np.exp(-t / T)\n",
        "        overlaps.append(overlap)\n",
        "    return overlaps\n",
        "\n",
        "def non_adiabatic_evolution(T, steps=100):\n",
        "    overlaps = []\n",
        "    for t in np.linspace(0, T, steps):\n",
        "        h_t, J = hamiltonian(t, T)\n",
        "        overlap = np.exp(- (t / T) ** 10)\n",
        "        overlaps.append(overlap)\n",
        "    return overlaps\n",
        "\n",
        "T = 10\n",
        "steps = 200\n",
        "\n",
        "# Overlaps\n",
        "adiabatic_overlaps = adiabatic_evolution(T, steps)\n",
        "non_adiabatic_overlaps = non_adiabatic_evolution(T, steps)\n",
        "\n",
        "# Plots\n",
        "plt.figure(figsize=(10, 6))\n",
        "plt.plot(np.linspace(0, T, steps), adiabatic_overlaps, label=\"Adiabatic Evolution\", color='b')\n",
        "plt.plot(np.linspace(0, T, steps), non_adiabatic_overlaps, label=\"Non-Adiabatic Evolution\", color='r', linestyle='--')\n",
        "plt.xlabel(\"Evolution time\")\n",
        "plt.ylabel(\"Overlap with the fundamental state\")\n",
        "plt.title(\"Adiabatic vs non-adiabatic evolution\")\n",
        "plt.legend()\n",
        "plt.show()"
      ],
      "metadata": {
        "colab": {
          "base_uri": "https://localhost:8080/",
          "height": 564
        },
        "id": "bD-uEjC2I558",
        "outputId": "3ac872ad-952d-4efa-f9e0-0e2dcfebae52"
      },
      "execution_count": null,
      "outputs": [
        {
          "output_type": "display_data",
          "data": {
            "text/plain": [
              "<Figure size 1000x600 with 1 Axes>"
            ],
            "image/png": "[encoded data removed]"
          },
          "metadata": {}
        }
      ]
    },
    {
      "cell_type": "markdown",
      "source": [
        "Let us suppose we prepare a quantum system in the ground state $|\\psi_0\\rangle$ of a given Hamiltonian $H$ (that is, $|\\psi_0\\rangle$ is the eigenstate that minimizes $H$), and then we gradually modify $H$ over time. If the change is sufficiently slow, then the system remains in the instantaneous ground state with high probability.  \n",
        "\n",
        "The time-dependent Hamiltonian is described by a family of self-adjoint operators $\\{H(t)\\}_{t \\in [0,T]}$ on the Hilbert space of the quantum system under consideration. The dynamics of the system prepared in the ground state $|\\psi_0\\rangle$ is governed by the solution of the Schrödinger equation  \n",
        "$$\n",
        "i\\hbar \\frac{d}{dt} |\\psi(t)\\rangle = H(t)|\\psi(t)\\rangle \\quad t \\in [0, T],\n",
        "$$  \n",
        "with initial condition $|\\psi(0)\\rangle = |\\psi_0\\rangle$.  \n",
        "\n",
        "We can reparametrize the time-dependent Hamiltonian as $\\tilde{H}(s) := H(Ts)$ with $s \\in [0, 1]$. For each $s \\in [0, 1]$, we have the following [eigenvalue problem](https://en.wikipedia.org/wiki/Eigenvalues_and_eigenvectors):  \n",
        "\n",
        "$$\n",
        "\\tilde{H}(s)|l s\\rangle = E_l(s)|l s\\rangle,\n",
        "$$  \n",
        "\n",
        "where $E_0(s)$ is the minimum of the spectrum of $\\tilde{H}(s)$ and $|0 s\\rangle$ is the corresponding eigenvector, i.e., the ground state. We assume that the initial state is non-degenerate.  \n",
        "\n",
        "*Adiabatic Theorem.* If $\\lambda(s) := E_1(s) - E_0(s) > 0$ for every $s \\in [0, 1]$, then:  \n",
        "$$\n",
        "\\lim_{T \\to +\\infty} |\\langle 0 1|\\psi(T)\\rangle| = 1,\n",
        "$$  \n",
        "where $|\\psi(T)\\rangle$ is the solution of the Schrödinger equation described above, with the initial condition $|\\psi(0)\\rangle = |0 0\\rangle$, evaluated at $t = T$.  \n",
        "\n",
        "The existence of a non-zero spectral gap $\\lambda$ ensures that the state of the evolving system remains in the ground state of $H(t)$ for every $t \\in [0, T]$, provided that the evolution time is sufficiently long.  \n",
        "\n",
        "*Remark.* To estimate how large $T$ must be so that the probability of remaining in the ground state is acceptable, the following approximate bound can be used, although more refined adiabatic conditions exist:  \n",
        "$$\n",
        "T \\gg \\frac{\\max_s \\left\\| \\frac{d}{ds}\\tilde{H}(s) \\right\\|_{\\text{op}}}{[\\min_s \\lambda(s)]^2},\n",
        "$$  \n",
        "where $\\| \\cdot \\|_{\\text{op}}$ denotes the [operator norm](https://en.wikipedia.org/wiki/Operator_norm)."
      ],
      "metadata": {
        "id": "QDLNy4NVK0iW"
      }
    },
    {
      "cell_type": "markdown",
      "source": [
        "The general structure of an adiabatic quantum computation is therefore as follows:\n",
        "\n",
        "- A quantum system is prepared in the known ground state of an initial Hamiltonian $H_I$ such that $[H_I, f(\\sigma)] \\neq 0$, meaning it [does not commute](https://en.wikipedia.org/wiki/Commutator) with the Ising Hamiltonian.\n",
        "- A time-dependent variation of the Hamiltonian from $H_I$ to $f(\\sigma)$ is implemented as  \n",
        "  $$H(t) = (1 - s(t))H_I + s(t)f(\\sigma)$$  \n",
        "  with $t \\in [0, T]$, where $T$ satisfies the conditions of the adiabatic theorem.  \n",
        "  Here, $s : [0, T] \\to [0, 1]$ is a smooth, monotonically increasing function such that $s(0) = 0$ and $s(T) = 1$, and $f(\\sigma)$ is the Hamiltonian representing the optimization problem.\n",
        "- A measurement process of the evolved quantum system.\n",
        "\n",
        "The problem to be solved is encoded in $f(\\sigma)$, and its ground state represents the solution. According to the adiabatic theorem, the final measurement process is performed on the ground state of $f$ with high probability."
      ],
      "metadata": {
        "id": "Bl-TEMG5LqIo"
      }
    },
    {
      "cell_type": "code",
      "source": [
        "# Example of an adiabatic simulation\n",
        "\n",
        "from scipy.linalg import expm\n",
        "from scipy.integrate import solve_ivp\n",
        "\n",
        "hbar = 1.0\n",
        "T = 100.0\n",
        "steps = 500\n",
        "n_points = 100\n",
        "\n",
        "def H0():\n",
        "    return np.array([[1, 0], [0, -1]])\n",
        "\n",
        "def H1():\n",
        "    return np.array([[0, 1], [1, 0]])\n",
        "\n",
        "def H_t(t, T):\n",
        "    s = t / T\n",
        "    return (1 - s) * H0() + s * H1()\n",
        "\n",
        "def instantaneous_eigenstate(t, T):\n",
        "    H = H_t(t, T)\n",
        "    eigenvalues, eigenvectors = np.linalg.eigh(H)\n",
        "    ground_state = eigenvectors[:, 0]\n",
        "    gap = eigenvalues[1] - eigenvalues[0]\n",
        "    return eigenvalues[0], ground_state, gap\n",
        "\n",
        "def schrodinger_eq(t, psi, T):\n",
        "    H = H_t(t, T)\n",
        "    return -1j / hbar * H @ psi\n",
        "\n",
        "_, psi0, _ = instantaneous_eigenstate(0, T)\n",
        "times = np.linspace(0, T, steps)\n",
        "sol = solve_ivp(lambda t, psi: schrodinger_eq(t, psi, T), [0, T], psi0, t_eval=times, vectorized=True)\n",
        "evolved_states = sol.y.T\n",
        "\n",
        "overlaps = []\n",
        "spectral_gaps = []\n",
        "for t_idx, t in enumerate(times):\n",
        "    _, ground_state, gap = instantaneous_eigenstate(t, T)\n",
        "    spectral_gaps.append(gap)\n",
        "    overlaps.append(np.abs(np.vdot(ground_state, evolved_states[t_idx])) ** 2)\n",
        "\n",
        "\n",
        "plt.figure(figsize=(12, 6))\n",
        "plt.subplot(1, 2, 1)\n",
        "plt.plot(times, overlaps)\n",
        "plt.xlabel(\"t\")\n",
        "plt.ylabel(\"Overlap\")\n",
        "plt.title(\"Adiabatic evolution\")\n",
        "\n",
        "plt.subplot(1, 2, 2)\n",
        "plt.plot(times, spectral_gaps)\n",
        "plt.xlabel(\"Tempo t\")\n",
        "plt.ylabel(\"Gap\")\n",
        "plt.title(\"Spectral gap\")\n",
        "\n",
        "plt.tight_layout()\n",
        "plt.show()"
      ],
      "metadata": {
        "colab": {
          "base_uri": "https://localhost:8080/",
          "height": 607
        },
        "id": "b2uaLYz4LBKw",
        "outputId": "93f90bf5-3404-4ec2-bbc0-845f8b508651"
      },
      "execution_count": null,
      "outputs": [
        {
          "output_type": "display_data",
          "data": {
            "text/plain": [
              "<Figure size 1200x600 with 2 Axes>"
            ],
            "image/png": "[encoded data removed]"
          },
          "metadata": {}
        }
      ]
    },
    {
      "cell_type": "markdown",
      "source": [
        "<a name=\"s1-4\"></a>\n",
        "## The QAOA"
      ],
      "metadata": {
        "id": "tEtnprlwL15Q"
      }
    },
    {
      "cell_type": "markdown",
      "source": [
        "The Quantum Approximate Optimization Algorithm (QAOA) is one of the possible quantum algorithms that implement adiabatic evolution to solve QUBO problems. Like all quantum algorithms, it is described by two main components:\n",
        "\n",
        "- A set of unitary operators (quantum gates);\n",
        "- Rules for combining the selected unitary operators (the quantum circuit).\n",
        "\n",
        "As we have seen, the relevant unitary operators are those associated with the Pauli observables in the Ising Hamiltonian $f(\\sigma)$, while the multiplication rules are determined by the adiabatic theorem.  \n",
        "\n",
        "In this section, for consistency with the notation used in [parameterized quantum circuits](https://en.wikipedia.org/wiki/Quantum_circuit), the role of the evolution time will be represented by the sum of two angular parameters — one for each term in the Ising Hamiltonian."
      ],
      "metadata": {
        "id": "S5Uiv3X4MMh9"
      }
    },
    {
      "cell_type": "markdown",
      "source": [
        "Given a number of layers $p \\geq 1$, together with $p$ angles $\\gamma_k \\in (0, 2\\pi]$ and $p$ angles $\\beta_k \\in (0, \\pi]$, the QAOA operates as follows:\n",
        "\n",
        "- A basis encoding $z \\to |z\\rangle$ is chosen, and an initial state $|\\psi_0\\rangle$ is prepared as a uniform superposition  \n",
        "  $$|\\psi_0\\rangle = \\frac{1}{\\sqrt{2^N}} \\sum_z |z\\rangle.$$\n",
        "- The function $f(z)$ is mapped to $f(\\sigma)$ by promoting each binary variable to a Pauli gate $\\boldsymbol{\\sigma}_z^{(i)}$. Then, for each integer $k = 1, \\dots, p$, the following unitary operator is defined as a rotation  \n",
        "  $$U_f(\\gamma_k) = e^{-i \\gamma_k f(\\sigma)},$$  \n",
        "  which is a product of $m$ terms.\n",
        "- For each $k = 1, \\dots, p$, a mixing operator $H_I$ is chosen that does not commute with $U_f$. In this case, another rotation is used:  \n",
        "  $$H_I(\\beta_k) = e^{-i \\beta_k \\sum_{j=1}^n \\boldsymbol{\\sigma}_x^{(j)}},$$  \n",
        "  defined as a product of $N$ terms, each of which is a Pauli $\\boldsymbol{\\sigma}_x$ gate with rotation angle $\\beta_k$.\n",
        "- The evolved state is defined as  \n",
        "  $$|\\gamma \\beta\\rangle := H_I(\\beta_p) U_f(\\gamma_p) \\prod_{i=1}^{p-1} [H_I(\\beta_{p-i}) U_f(\\gamma_{p-i})] |\\psi_0\\rangle,$$  \n",
        "  and the expected value is computed as  \n",
        "  $$F_p(\\gamma, \\beta) := \\langle \\gamma \\beta | f(\\sigma) | \\gamma \\beta \\rangle.$$\n",
        "- Finally, to improve the approximation of the solution, $F_p$ can be passed to a classical optimizer to obtain an updated set of parameters $\\gamma^*, \\beta^*$, and the process is repeated from the previous steps, increasing the number of layers $p \\to p + 1$.\n"
      ],
      "metadata": {
        "id": "4S6aXCn1Mdvp"
      }
    },
    {
      "cell_type": "markdown",
      "source": [
        "<a name=\"s1-5\"></a>\n",
        "## The QAOA and the MaxCut problem"
      ],
      "metadata": {
        "id": "Vmbbsn6_MsHb"
      }
    },
    {
      "cell_type": "markdown",
      "source": [
        "As an interesting application of the QAOA on an [NP-hard](https://en.wikipedia.org/wiki/NP-hardness) problem, let us consider the [maximum cut problem in a graph](https://en.wikipedia.org/wiki/Maximum_cut) (MaxCut). Consider a graph $(V, E)$ with $n$ vertices (nodes) $v_i \\in V$ and $m \\leq \\frac{n(n-1)}{2}$ undirected edges $\\{i, j\\} \\in E$. Recall that a *cut* in $\\Gamma$ is a partition of $V$ into two sets $S$ and $V - S$ such that the set of edges $E$ has a subset $E_\\mathrm{cut}$ of the form  \n",
        "$$\n",
        "E_\\mathrm{cut} = \\{ \\{i, j\\} : v_i \\in S, \\, v_j \\in V - S \\}.\n",
        "$$  \n",
        "A *maximum cut*, or *MaxCut*, is a cut with a maximal $E_\\mathrm{cut}$. The MaxCut problem can be extended to graphs with weighted edges; in that case, it is referred to as the *weighted MaxCut* problem, and the general cost function is:  \n",
        "$$\n",
        "f(z) = \\sum_{i<j} w_{ij}(1 - z_i z_j),\n",
        "$$  \n",
        "where $w_{ij} = w_{ji} > 0$ is the weight associated with the edge $\\{i, j\\}$ connecting node $v_i$ and node $v_j$, and $z_i = 1$ when $v_i \\in S$, $z_i = 0$ otherwise, for ${i \\in \\{1, \\dots, n\\}}$.  \n",
        "\n",
        "Clearly, MaxCut is a particular case of the weighted MaxCut with $w_{ij} = 1$ for every edge. It is known that the MaxCut problem is NP-hard; however, many classical approximate solutions have been developed, particularly within the framework of semidefinite programming.\n"
      ],
      "metadata": {
        "id": "k3rnW-VPMwaf"
      }
    },
    {
      "cell_type": "code",
      "source": [
        "# The QAOA and the MaxCut problem in a concrete example\n",
        "\n",
        "import networkx as nx\n",
        "\n",
        "G = nx.Graph()\n",
        "G.add_nodes_from([0, 1, 2, 3])\n",
        "G.add_edges_from([(0, 1), (1, 2), (2, 3), (3, 0)])\n",
        "nx.draw(G, with_labels=True, alpha=0.8, node_size=500)"
      ],
      "metadata": {
        "colab": {
          "base_uri": "https://localhost:8080/",
          "height": 516
        },
        "id": "F_2469x0MO32",
        "outputId": "6c31da04-01f4-4303-b436-78ede2fe7377"
      },
      "execution_count": null,
      "outputs": [
        {
          "output_type": "display_data",
          "data": {
            "text/plain": [
              "<Figure size 640x480 with 1 Axes>"
            ],
            "image/png": "[encoded data removed]"
          },
          "metadata": {}
        }
      ]
    },
    {
      "cell_type": "code",
      "source": [
        "from qiskit import QuantumCircuit, QuantumRegister\n",
        "from qiskit.circuit import Parameter\n",
        "\n",
        "n_qb = 4\n",
        "qubit = QuantumRegister(n_qb)\n",
        "qc = QuantumCircuit(qubit)\n",
        "\n",
        "qc.h(qubit)\n",
        "qc.barrier()\n",
        "\n",
        "gamma = Parameter(\"$\\\\gamma$\")\n",
        "for pair in list(G.edges()):\n",
        "    qc.rzz(2 * gamma, pair[0], pair[1])\n",
        "\n",
        "qc.barrier()\n",
        "beta = Parameter(\"$\\\\beta$\")\n",
        "for i in range(0, n_qb):\n",
        "    qc.rx(2 * beta, i)\n",
        "\n",
        "qc.measure_all()\n",
        "qc.draw()"
      ],
      "metadata": {
        "colab": {
          "base_uri": "https://localhost:8080/",
          "height": 356
        },
        "id": "fc9RxdpEM-E1",
        "outputId": "9341ae92-0bf0-4c7c-eee7-f63e51f2e7d5"
      },
      "execution_count": null,
      "outputs": [
        {
          "output_type": "execute_result",
          "data": {
            "text/plain": [
              "        ┌───┐ ░                                                    »\n",
              "  q0_0: ┤ H ├─░──■────────────────■────────────────────────────────»\n",
              "        ├───┤ ░  │ZZ(2*$\\gamma$)  │                                »\n",
              "  q0_1: ┤ H ├─░──■────────────────┼────────────────■───────────────»\n",
              "        ├───┤ ░                   │                │ZZ(2*$\\gamma$) »\n",
              "  q0_2: ┤ H ├─░───────────────────┼────────────────■───────────────»\n",
              "        ├───┤ ░                   │ZZ(2*$\\gamma$)                  »\n",
              "  q0_3: ┤ H ├─░───────────────────■────────────────────────────────»\n",
              "        └───┘ ░                                                    »\n",
              "meas: 4/═══════════════════════════════════════════════════════════»\n",
              "                                                                   »\n",
              "«                          ░ ┌───────────────┐ ░ ┌─┐         \n",
              "«  q0_0: ──────────────────░─┤ Rx(2*$\\beta$) ├─░─┤M├─────────\n",
              "«                          ░ ├───────────────┤ ░ └╥┘┌─┐      \n",
              "«  q0_1: ──────────────────░─┤ Rx(2*$\\beta$) ├─░──╫─┤M├──────\n",
              "«                          ░ ├───────────────┤ ░  ║ └╥┘┌─┐   \n",
              "«  q0_2: ─■────────────────░─┤ Rx(2*$\\beta$) ├─░──╫──╫─┤M├───\n",
              "«         │ZZ(2*$\\gamma$)  ░ ├───────────────┤ ░  ║  ║ └╥┘┌─┐\n",
              "«  q0_3: ─■────────────────░─┤ Rx(2*$\\beta$) ├─░──╫──╫──╫─┤M├\n",
              "«                          ░ └───────────────┘ ░  ║  ║  ║ └╥┘\n",
              "«meas: 4/═════════════════════════════════════════╩══╩══╩══╩═\n",
              "«                                                 0  1  2  3 "
            ],
            "text/html": [
              "<pre style=\"word-wrap: normal;white-space: pre;background: #fff0;line-height: 1.1;font-family: &quot;Courier New&quot;,Courier,monospace\">        ┌───┐ ░                                                    »\n",
              "  q0_0: ┤ H ├─░──■────────────────■────────────────────────────────»\n",
              "        ├───┤ ░  │ZZ(2*$\\gamma$)  │                                »\n",
              "  q0_1: ┤ H ├─░──■────────────────┼────────────────■───────────────»\n",
              "        ├───┤ ░                   │                │ZZ(2*$\\gamma$) »\n",
              "  q0_2: ┤ H ├─░───────────────────┼────────────────■───────────────»\n",
              "        ├───┤ ░                   │ZZ(2*$\\gamma$)                  »\n",
              "  q0_3: ┤ H ├─░───────────────────■────────────────────────────────»\n",
              "        └───┘ ░                                                    »\n",
              "meas: 4/═══════════════════════════════════════════════════════════»\n",
              "                                                                   »\n",
              "«                          ░ ┌───────────────┐ ░ ┌─┐         \n",
              "«  q0_0: ──────────────────░─┤ Rx(2*$\\beta$) ├─░─┤M├─────────\n",
              "«                          ░ ├───────────────┤ ░ └╥┘┌─┐      \n",
              "«  q0_1: ──────────────────░─┤ Rx(2*$\\beta$) ├─░──╫─┤M├──────\n",
              "«                          ░ ├───────────────┤ ░  ║ └╥┘┌─┐   \n",
              "«  q0_2: ─■────────────────░─┤ Rx(2*$\\beta$) ├─░──╫──╫─┤M├───\n",
              "«         │ZZ(2*$\\gamma$)  ░ ├───────────────┤ ░  ║  ║ └╥┘┌─┐\n",
              "«  q0_3: ─■────────────────░─┤ Rx(2*$\\beta$) ├─░──╫──╫──╫─┤M├\n",
              "«                          ░ └───────────────┘ ░  ║  ║  ║ └╥┘\n",
              "«meas: 4/═════════════════════════════════════════╩══╩══╩══╩═\n",
              "«                                                 0  1  2  3 </pre>"
            ]
          },
          "metadata": {},
          "execution_count": 43
        }
      ]
    },
    {
      "cell_type": "code",
      "source": [
        "from scipy.optimize import minimize\n",
        "from qiskit import transpile\n",
        "from qiskit_aer import Aer\n",
        "\n",
        "\n",
        "def cost_function(parameters, qc):\n",
        "    backend = Aer.get_backend('qasm_simulator')\n",
        "    bound_qc = qc.assign_parameters({gamma: parameters[0], beta: parameters[1]})\n",
        "    t_qc = transpile(bound_qc, backend=backend)\n",
        "    job = backend.run(t_qc, shots=1024)\n",
        "    counts = job.result().get_counts()\n",
        "    expectation_value = 0\n",
        "    for outcome, frequency in counts.items():\n",
        "        expectation_value += int(outcome, 2) * frequency / 1024\n",
        "    return expectation_value\n",
        "\n",
        "\n",
        "initial_point = [0.1, 0.1]\n",
        "res = minimize(cost_function, initial_point, method='COBYLA', args=(qc))\n",
        "\n",
        "print(\"Result:\", res.fun)\n",
        "print(\"Optimal parameters:\", res.x)"
      ],
      "metadata": {
        "colab": {
          "base_uri": "https://localhost:8080/"
        },
        "id": "BnkOFc0yND9N",
        "outputId": "62b5baa5-365b-43ba-e2ab-a50a9bcc6282"
      },
      "execution_count": null,
      "outputs": [
        {
          "output_type": "stream",
          "name": "stdout",
          "text": [
            "Result: 7.2060546875\n",
            "Optimal parameters: [1.1 0.1]\n"
          ]
        }
      ]
    },
    {
      "cell_type": "code",
      "source": [
        "from qiskit.visualization import plot_histogram\n",
        "\n",
        "backend = Aer.get_backend('qasm_simulator')\n",
        "bound_qc = qc.assign_parameters({gamma: -0.48489768, beta: 1.91114874})\n",
        "t_qc = transpile(bound_qc, backend=backend)\n",
        "job = backend.run(t_qc, shots=1024)\n",
        "counts = job.result().get_counts()\n",
        "plot_histogram(counts)"
      ],
      "metadata": {
        "colab": {
          "base_uri": "https://localhost:8080/",
          "height": 487
        },
        "id": "QFmm9aLfNKPd",
        "outputId": "4751768d-3264-4f68-85e8-1eac618b6156"
      },
      "execution_count": null,
      "outputs": [
        {
          "output_type": "execute_result",
          "data": {
            "text/plain": [
              "<Figure size 640x480 with 1 Axes>"
            ],
            "image/png": "[encoded data removed]"
          },
          "metadata": {},
          "execution_count": 46
        }
      ]
    },
    {
      "cell_type": "markdown",
      "source": [
        "<a name=\"ex\"></a>\n",
        "## Exercises"
      ],
      "metadata": {
        "id": "bB1DpvVnNhSx"
      }
    },
    {
      "cell_type": "markdown",
      "source": [
        "Lets conclude with some exercises.\n",
        "\n",
        "**Exercise 1.** Prove that it is possible to transform a minimization problem into a maximization problem simply by changing the sign of the objective function. Also, show that a constrained optimization problem can be transformed into an unconstrained one by \"embedding\" the constraints into the objective function. Specifically, prove that solving  \n",
        "$$\n",
        "\\min x_1^2 + x_2^2 \\quad x \\in \\Omega = \\{x_1 + x_2 - 1 \\leq 0, \\, x_1 - x_2 = 0\\}\n",
        "$$  \n",
        "is equivalent to solving (using the [penalty method](https://en.wikipedia.org/wiki/Penalty_method)):  \n",
        "$$\n",
        "\\min x_1^2 + x_2^2 + a_1 \\max(0, x_1 + x_2 - 1)^2 + a_2 (x_1 - x_2)^2 \\,.\n",
        "$$  \n",
        "\n",
        "**Exercise 2.** If $x \\in \\mathbb{Z}^n$ is transformed into a binary string $z = z_1 z_2 \\dots z_n$ with $z_i = (x_i)_2$, how many binary digits does the string $z$ contain? It is also interesting to note that, by defining $\\omega$ as the empty string and the operation $z * w = zw$ between strings as concatenation, one obtains a [monoid](https://en.wikipedia.org/wiki/Monoid). Why is that? This monoid is particularly interesting in algebra due to its relation to [free groups](https://en.wikipedia.org/wiki/Free_group)...  \n",
        "\n",
        "**Exercise 3.** Prove that in a QUBO problem one can always set $c = 0$. Moreover, show that this constant factor is irrelevant in a quantum computation. Why?  \n",
        "\n",
        "*Hint:* A QUBO objective function is essentially a paraboloid with binary coordinates.  \n",
        "\n",
        "**Exercise 4.** Prove that any optimization problem with objective function $f(x) = \\langle x | A x \\rangle + \\langle b | x \\rangle$, where $A$ is symmetric and non-degenerate and $x$ is a binary vector, can be reduced to a QUBO problem.\n",
        "\n",
        "*Hint:* Diagonalize $A$.  \n",
        "\n",
        "**Exercise 5.** Consider the Ising model in $\\mathbb{Z}$ (one-dimensional). Are there equilibrium configurations? If so, which ones?  \n",
        "\n",
        "**Exercise 6.** Prove that the Ising Hamiltonian $f(\\sigma)$ is a quantum observable. Then find a closed-form expression for the associated unitary operator $e^{itf(\\sigma)}$, where $t > 0$ is a parameter, and write the Schrödinger equation corresponding to this unitary operator.  \n",
        "\n",
        "**Exercise 7.** Show that the uniform superposition $H^{\\otimes n} |0\\rangle^{\\otimes n}$ of $n$ qubits initialized in $|0\\rangle$, obtained by applying $n$ [Hadamard gates](https://en.wikipedia.org/wiki/Hadamard_matrix) $H$, is the ground state of the mixing unitary $\\prod_j e^{i\\theta \\boldsymbol{\\sigma}^{(j)}_x}$.  \n",
        "\n",
        "**Exercise 8.** Using the provided code as a template, solve the MaxCut problem for a complete graph with $n = 10$ nodes and a number of layers up to $p = 5$. Check your results using [this app](https://quantum-optimization-app.streamlit.app/).\n"
      ],
      "metadata": {
        "id": "vccW95QuO3Rf"
      }
    },
    {
      "cell_type": "markdown",
      "source": [
        "<a name=\"bib\"></a>\n",
        "## Suggested readings"
      ],
      "metadata": {
        "id": "MDn8vU9YQxVs"
      }
    },
    {
      "cell_type": "markdown",
      "source": [
        "**[1]** E. Farhi, et al.: [Quantum Computation by Adiabatic Evolution\n",
        "](https://arxiv.org/abs/quant-ph/0001106) (2000)\n",
        "\n",
        "**[2]** E. Farhi, et al.: [A Quantum Approximate Optimization Algorithm](https://arxiv.org/abs/1411.4028) (2014)\n",
        "\n",
        "**[3]** S. Hadfield, et al.,: [From the Quantum Approximate Optimization Algorithm to a Quantum Alternating Operator Ansatz\n",
        "](https://arxiv.org/abs/1709.03489) (2019)\n",
        "\n",
        "**[4]** A. M. Semenov et al.,: [Transforming optimization problems into a QUBO form: A tutorial](https://arxiv.org/abs/2410.21074) (2024)\n",
        "\n",
        "**[5]** F. Glover, et al.,: [A Tutorial on Formulating and Using QUBO Models](https://arxiv.org/abs/1811.11538) (2018)"
      ],
      "metadata": {
        "id": "rsx33970Q2JB"
      }
    }
  ]
}